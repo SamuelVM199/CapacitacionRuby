{
 "cells": [
  {
   "cell_type": "markdown",
   "id": "b5937133",
   "metadata": {},
   "source": [
    "## Primeros pasos en ruby"
   ]
  },
  {
   "cell_type": "markdown",
   "id": "c11e4568",
   "metadata": {},
   "source": [
    "Hola mundo"
   ]
  },
  {
   "cell_type": "code",
   "execution_count": null,
   "id": "44a4550e",
   "metadata": {
    "vscode": {
     "languageId": "plaintext"
    }
   },
   "outputs": [],
   "source": [
    "puts \"Hello\"  "
   ]
  }
 ],
 "metadata": {
  "language_info": {
   "name": "python"
  }
 },
 "nbformat": 4,
 "nbformat_minor": 5
}
